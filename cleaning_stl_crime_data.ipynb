{
 "cells": [
  {
   "cell_type": "markdown",
   "metadata": {},
   "source": [
    "# This is currently a work in progress.  Feel free to add to it as it progresses along!!!\n",
    "\n",
    "## This notebook is a gradual work in progress to make this data set more complete and easier for people to import and use for their own data analysis with minimal data cleaning."
   ]
  },
  {
   "cell_type": "code",
   "execution_count": 1,
   "metadata": {
    "collapsed": true
   },
   "outputs": [],
   "source": [
    "import pandas as pd\n",
    "import os"
   ]
  },
  {
   "cell_type": "markdown",
   "metadata": {},
   "source": [
    "## Read in the raw data files and combine into one data frame"
   ]
  },
  {
   "cell_type": "code",
   "execution_count": 2,
   "metadata": {
    "collapsed": false
   },
   "outputs": [],
   "source": [
    "file_list = os.listdir('raw_data/')"
   ]
  },
  {
   "cell_type": "code",
   "execution_count": 75,
   "metadata": {
    "collapsed": false
   },
   "outputs": [],
   "source": [
    "d = pd.concat([pd.read_csv('raw_data/' + f) for f in file_list], keys=file_list, names = ['FileName','RowNumber'])"
   ]
  },
  {
   "cell_type": "code",
   "execution_count": 4,
   "metadata": {
    "collapsed": false
   },
   "outputs": [],
   "source": [
    "df = d.reset_index().drop('RowNumber', axis = 1)"
   ]
  },
  {
   "cell_type": "code",
   "execution_count": 5,
   "metadata": {
    "collapsed": false
   },
   "outputs": [
    {
     "data": {
      "text/html": [
       "<div style=\"max-height:1000px;max-width:1500px;overflow:auto;\">\n",
       "<table border=\"1\" class=\"dataframe\">\n",
       "  <thead>\n",
       "    <tr style=\"text-align: right;\">\n",
       "      <th></th>\n",
       "      <th>FileName</th>\n",
       "      <th>AdministrativeAdjustmentIndicator</th>\n",
       "      <th>CADAddress</th>\n",
       "      <th>CADStreet</th>\n",
       "      <th>CodedMonth</th>\n",
       "      <th>Complaint</th>\n",
       "      <th>Count</th>\n",
       "      <th>Crime</th>\n",
       "      <th>DateOccur</th>\n",
       "      <th>DateOccured</th>\n",
       "      <th>...</th>\n",
       "      <th>ILEADSAddress</th>\n",
       "      <th>ILEADSStreet</th>\n",
       "      <th>LocationComment</th>\n",
       "      <th>LocationName</th>\n",
       "      <th>MonthReportedtoMSHP</th>\n",
       "      <th>Neighborhood</th>\n",
       "      <th>NewCrimeIndicator</th>\n",
       "      <th>UnfoundedCrimeIndicator</th>\n",
       "      <th>XCoord</th>\n",
       "      <th>YCoord</th>\n",
       "    </tr>\n",
       "  </thead>\n",
       "  <tbody>\n",
       "    <tr>\n",
       "      <th>0</th>\n",
       "      <td> april2008.csv</td>\n",
       "      <td>  </td>\n",
       "      <td> 4900</td>\n",
       "      <td>           MAPLE</td>\n",
       "      <td> NaN</td>\n",
       "      <td> NaN</td>\n",
       "      <td> 1</td>\n",
       "      <td> 177000</td>\n",
       "      <td> NaN</td>\n",
       "      <td> 01/01/2000 20:58</td>\n",
       "      <td>...</td>\n",
       "      <td> 4900</td>\n",
       "      <td>       MAPLE AVE</td>\n",
       "      <td>                   </td>\n",
       "      <td>  </td>\n",
       "      <td> 2008-04</td>\n",
       "      <td> 53</td>\n",
       "      <td> Y</td>\n",
       "      <td>  </td>\n",
       "      <td> 888708.3</td>\n",
       "      <td> 1028833.0</td>\n",
       "    </tr>\n",
       "    <tr>\n",
       "      <th>1</th>\n",
       "      <td> april2008.csv</td>\n",
       "      <td>  </td>\n",
       "      <td> 4357</td>\n",
       "      <td>      CALIFORNIA</td>\n",
       "      <td> NaN</td>\n",
       "      <td> NaN</td>\n",
       "      <td> 1</td>\n",
       "      <td>  67501</td>\n",
       "      <td> NaN</td>\n",
       "      <td> 01/01/2003 00:01</td>\n",
       "      <td>...</td>\n",
       "      <td> 4357</td>\n",
       "      <td>  CALIFORNIA AVE</td>\n",
       "      <td>                   </td>\n",
       "      <td>  </td>\n",
       "      <td> 2008-04</td>\n",
       "      <td> 17</td>\n",
       "      <td> Y</td>\n",
       "      <td>  </td>\n",
       "      <td> 896256.1</td>\n",
       "      <td>  998745.9</td>\n",
       "    </tr>\n",
       "    <tr>\n",
       "      <th>2</th>\n",
       "      <td> april2008.csv</td>\n",
       "      <td>  </td>\n",
       "      <td> 4313</td>\n",
       "      <td>      MARGARETTA</td>\n",
       "      <td> NaN</td>\n",
       "      <td> NaN</td>\n",
       "      <td> 1</td>\n",
       "      <td> 115400</td>\n",
       "      <td> NaN</td>\n",
       "      <td> 01/01/2004 00:01</td>\n",
       "      <td>...</td>\n",
       "      <td> 4313</td>\n",
       "      <td>  MARGARETTA AVE</td>\n",
       "      <td>                   </td>\n",
       "      <td>  </td>\n",
       "      <td> 2008-04</td>\n",
       "      <td> 68</td>\n",
       "      <td> Y</td>\n",
       "      <td>  </td>\n",
       "      <td> 896282.4</td>\n",
       "      <td> 1033555.0</td>\n",
       "    </tr>\n",
       "    <tr>\n",
       "      <th>3</th>\n",
       "      <td> april2008.csv</td>\n",
       "      <td>  </td>\n",
       "      <td> 3939</td>\n",
       "      <td>            OHIO</td>\n",
       "      <td> NaN</td>\n",
       "      <td> NaN</td>\n",
       "      <td> 1</td>\n",
       "      <td> 115400</td>\n",
       "      <td> NaN</td>\n",
       "      <td> 01/01/2006 10:00</td>\n",
       "      <td>...</td>\n",
       "      <td> 3939</td>\n",
       "      <td>        OHIO AVE</td>\n",
       "      <td>                   </td>\n",
       "      <td>  </td>\n",
       "      <td> 2008-04</td>\n",
       "      <td> 16</td>\n",
       "      <td> Y</td>\n",
       "      <td>  </td>\n",
       "      <td> 897347.3</td>\n",
       "      <td> 1001419.0</td>\n",
       "    </tr>\n",
       "    <tr>\n",
       "      <th>4</th>\n",
       "      <td> april2008.csv</td>\n",
       "      <td>  </td>\n",
       "      <td> 2612</td>\n",
       "      <td> ANNIE MALONE DR</td>\n",
       "      <td> NaN</td>\n",
       "      <td> NaN</td>\n",
       "      <td> 1</td>\n",
       "      <td>  91113</td>\n",
       "      <td> NaN</td>\n",
       "      <td> 01/01/2007 16:36</td>\n",
       "      <td>...</td>\n",
       "      <td> 2612</td>\n",
       "      <td> ANNIE MALONE DR</td>\n",
       "      <td> @ANNIE MALONE HOME</td>\n",
       "      <td>  </td>\n",
       "      <td> 2008-04</td>\n",
       "      <td> 57</td>\n",
       "      <td> Y</td>\n",
       "      <td>  </td>\n",
       "      <td> 895420.8</td>\n",
       "      <td> 1029119.0</td>\n",
       "    </tr>\n",
       "  </tbody>\n",
       "</table>\n",
       "<p>5 rows × 26 columns</p>\n",
       "</div>"
      ],
      "text/plain": [
       "        FileName AdministrativeAdjustmentIndicator CADAddress  \\\n",
       "0  april2008.csv                                         4900   \n",
       "1  april2008.csv                                         4357   \n",
       "2  april2008.csv                                         4313   \n",
       "3  april2008.csv                                         3939   \n",
       "4  april2008.csv                                         2612   \n",
       "\n",
       "         CADStreet CodedMonth Complaint  Count   Crime DateOccur  \\\n",
       "0            MAPLE        NaN       NaN      1  177000       NaN   \n",
       "1       CALIFORNIA        NaN       NaN      1   67501       NaN   \n",
       "2       MARGARETTA        NaN       NaN      1  115400       NaN   \n",
       "3             OHIO        NaN       NaN      1  115400       NaN   \n",
       "4  ANNIE MALONE DR        NaN       NaN      1   91113       NaN   \n",
       "\n",
       "        DateOccured    ...     ILEADSAddress     ILEADSStreet  \\\n",
       "0  01/01/2000 20:58    ...              4900        MAPLE AVE   \n",
       "1  01/01/2003 00:01    ...              4357   CALIFORNIA AVE   \n",
       "2  01/01/2004 00:01    ...              4313   MARGARETTA AVE   \n",
       "3  01/01/2006 10:00    ...              3939         OHIO AVE   \n",
       "4  01/01/2007 16:36    ...              2612  ANNIE MALONE DR   \n",
       "\n",
       "      LocationComment LocationName MonthReportedtoMSHP Neighborhood  \\\n",
       "0                                              2008-04           53   \n",
       "1                                              2008-04           17   \n",
       "2                                              2008-04           68   \n",
       "3                                              2008-04           16   \n",
       "4  @ANNIE MALONE HOME                          2008-04           57   \n",
       "\n",
       "  NewCrimeIndicator UnfoundedCrimeIndicator    XCoord     YCoord  \n",
       "0                 Y                          888708.3  1028833.0  \n",
       "1                 Y                          896256.1   998745.9  \n",
       "2                 Y                          896282.4  1033555.0  \n",
       "3                 Y                          897347.3  1001419.0  \n",
       "4                 Y                          895420.8  1029119.0  \n",
       "\n",
       "[5 rows x 26 columns]"
      ]
     },
     "execution_count": 5,
     "metadata": {},
     "output_type": "execute_result"
    }
   ],
   "source": [
    "df.head()"
   ]
  },
  {
   "cell_type": "markdown",
   "metadata": {},
   "source": [
    "## Load in neighborhood lookup table and join it with the data frame"
   ]
  },
  {
   "cell_type": "code",
   "execution_count": 52,
   "metadata": {
    "collapsed": true
   },
   "outputs": [],
   "source": [
    "# Load in neighborhood lookup table\n",
    "nbhds = pd.read_csv('neighborhood_lookup.csv')"
   ]
  },
  {
   "cell_type": "code",
   "execution_count": 53,
   "metadata": {
    "collapsed": false
   },
   "outputs": [],
   "source": [
    "df2 = pd.merge(df, nbhds, left_on = 'Neighborhood', right_on = 'Neighborhood Number', how = 'left')"
   ]
  },
  {
   "cell_type": "markdown",
   "metadata": {},
   "source": [
    "## Fixing column names to something more consistent"
   ]
  },
  {
   "cell_type": "code",
   "execution_count": 54,
   "metadata": {
    "collapsed": false
   },
   "outputs": [],
   "source": [
    "col_names = list(df2.columns)\n",
    "df2.columns = [name.replace(' ', '') for name in col_names]"
   ]
  },
  {
   "cell_type": "code",
   "execution_count": 55,
   "metadata": {
    "collapsed": false
   },
   "outputs": [
    {
     "data": {
      "text/plain": [
       "Index([u'FileName', u'AdministrativeAdjustmentIndicator', u'CADAddress', u'CADStreet', u'CodedMonth', u'Complaint', u'Count', u'Crime', u'DateOccur', u'DateOccured', u'Description', u'District', u'FlagAdministrative', u'FlagCleanup', u'FlagCrime', u'FlagUnfounded', u'ILEADSAddress', u'ILEADSStreet', u'LocationComment', u'LocationName', u'MonthReportedtoMSHP', u'Neighborhood', u'NewCrimeIndicator', u'UnfoundedCrimeIndicator', u'XCoord', u'YCoord', u'NeighborhoodNumber', u'NeighborhoodName', u'NeighborhoodPrimaryDistrict', u'NeighborhoodAddlDistrict'], dtype='object')"
      ]
     },
     "execution_count": 55,
     "metadata": {},
     "output_type": "execute_result"
    }
   ],
   "source": [
    "df2.columns"
   ]
  },
  {
   "cell_type": "markdown",
   "metadata": {},
   "source": [
    "## Working to fill in missing data"
   ]
  },
  {
   "cell_type": "code",
   "execution_count": 56,
   "metadata": {
    "collapsed": false
   },
   "outputs": [],
   "source": [
    "df2['AdministrativeAdjustmentIndicator'] = df2['AdministrativeAdjustmentIndicator'].replace(' ', pd.np.NaN)"
   ]
  },
  {
   "cell_type": "markdown",
   "metadata": {},
   "source": [
    "## Here we're trying to align the crime codes in the Crime field to the Uniform Crime Reporting codes.\n",
    "First we need to pad out the Crime column to be six digits, since the leading zero was trimmed in the .csv files"
   ]
  },
  {
   "cell_type": "code",
   "execution_count": 92,
   "metadata": {
    "collapsed": false
   },
   "outputs": [],
   "source": [
    "df2['Crime'] = df2['Crime'].astype(str)\n",
    "df2['Crime'] = df2['Crime'].apply(lambda x: x.zfill(6))"
   ]
  },
  {
   "cell_type": "code",
   "execution_count": null,
   "metadata": {
    "collapsed": true
   },
   "outputs": [],
   "source": []
  },
  {
   "cell_type": "code",
   "execution_count": null,
   "metadata": {
    "collapsed": true
   },
   "outputs": [],
   "source": []
  },
  {
   "cell_type": "code",
   "execution_count": null,
   "metadata": {
    "collapsed": true
   },
   "outputs": [],
   "source": []
  },
  {
   "cell_type": "code",
   "execution_count": null,
   "metadata": {
    "collapsed": true
   },
   "outputs": [],
   "source": []
  },
  {
   "cell_type": "markdown",
   "metadata": {},
   "source": [
    "## Write the file out to tab delimited file"
   ]
  },
  {
   "cell_type": "code",
   "execution_count": 95,
   "metadata": {
    "collapsed": false
   },
   "outputs": [],
   "source": [
    "df2.to_csv('clean_data/stl_crime_data.txt', sep='\\t')"
   ]
  },
  {
   "cell_type": "code",
   "execution_count": null,
   "metadata": {
    "collapsed": true
   },
   "outputs": [],
   "source": []
  }
 ],
 "metadata": {
  "kernelspec": {
   "display_name": "Python 2",
   "language": "python",
   "name": "python2"
  },
  "language_info": {
   "codemirror_mode": {
    "name": "ipython",
    "version": 2
   },
   "file_extension": ".py",
   "mimetype": "text/x-python",
   "name": "python",
   "nbconvert_exporter": "python",
   "pygments_lexer": "ipython2",
   "version": "2.7.10"
  }
 },
 "nbformat": 4,
 "nbformat_minor": 0
}
